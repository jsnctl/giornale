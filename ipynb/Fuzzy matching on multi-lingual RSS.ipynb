{
 "cells": [
  {
   "cell_type": "code",
   "execution_count": 46,
   "metadata": {},
   "outputs": [],
   "source": [
    "import feedparser\n",
    "import pandas as pd\n",
    "import numpy as np\n",
    "\n",
    "ENGLISH_RSS = \"https://voxeurop.eu/en/feed/rss/all.xml\"\n",
    "ITALIAN_RSS = \"https://voxeurop.eu/it/feed/rss/all.xml\"\n",
    "\n",
    "en_feed = feedparser.parse(ENGLISH_RSS)\n",
    "it_feed = feedparser.parse(ITALIAN_RSS)"
   ]
  },
  {
   "cell_type": "code",
   "execution_count": 8,
   "metadata": {},
   "outputs": [],
   "source": [
    "en_pairs = [(row['title'], int(row['id'].split(\"/\")[1])) for row in en_feed['entries']]\n",
    "it_pairs = [(row['title'], int(row['id'].split(\"/\")[1])) for row in it_feed['entries']]"
   ]
  },
  {
   "cell_type": "code",
   "execution_count": 16,
   "metadata": {},
   "outputs": [],
   "source": [
    "columns = ['text', 'id']\n",
    "\n",
    "en = pd.DataFrame(en_pairs, columns=columns)\n",
    "it = pd.DataFrame(it_pairs, columns=columns)"
   ]
  },
  {
   "cell_type": "code",
   "execution_count": 41,
   "metadata": {},
   "outputs": [
    {
     "data": {
      "text/plain": [
       "<matplotlib.image.AxesImage at 0x121534b50>"
      ]
     },
     "execution_count": 41,
     "metadata": {},
     "output_type": "execute_result"
    },
    {
     "data": {
      "image/png": "[encoded data removed]",
      "text/plain": [
       "<Figure size 432x288 with 1 Axes>"
      ]
     },
     "metadata": {
      "needs_background": "light"
     },
     "output_type": "display_data"
    }
   ],
   "source": [
    "import matplotlib.pyplot as plt\n",
    "%matplotlib inline\n",
    "\n",
    "piecewise_differences = [abs(val - it['id'].values) for val in en['id'].values]\n",
    "\n",
    "plt.imshow(piecewise_differences)"
   ]
  },
  {
   "cell_type": "code",
   "execution_count": 54,
   "metadata": {},
   "outputs": [],
   "source": [
    "piecewise_df = pd.DataFrame(piecewise_differences)\n",
    "piecewise_df.index = en['text']\n",
    "piecewise_df.columns = it['text']"
   ]
  },
  {
   "cell_type": "code",
   "execution_count": 60,
   "metadata": {
    "scrolled": false
   },
   "outputs": [
    {
     "data": {
      "image/png": "[encoded data removed]",
      "text/plain": [
       "<Figure size 432x288 with 1 Axes>"
      ]
     },
     "metadata": {
      "needs_background": "light"
     },
     "output_type": "display_data"
    },
    {
     "data": {
      "image/png": "[encoded data removed]",
      "text/plain": [
       "<Figure size 432x288 with 1 Axes>"
      ]
     },
     "metadata": {
      "needs_background": "light"
     },
     "output_type": "display_data"
    },
    {
     "data": {
      "image/png": "[encoded data removed]",
      "text/plain": [
       "<Figure size 432x288 with 1 Axes>"
      ]
     },
     "metadata": {
      "needs_background": "light"
     },
     "output_type": "display_data"
    }
   ],
   "source": [
    "thresholds = [15, 10, 5]\n",
    "\n",
    "for threshold in thresholds:\n",
    "    plt.figure()\n",
    "    plt.imshow(piecewise_df < threshold)"
   ]
  },
  {
   "cell_type": "code",
   "execution_count": 76,
   "metadata": {
    "scrolled": false
   },
   "outputs": [
    {
     "data": {
      "text/html": [
       "<div>\n",
       "<style scoped>\n",
       "    .dataframe tbody tr th:only-of-type {\n",
       "        vertical-align: middle;\n",
       "    }\n",
       "\n",
       "    .dataframe tbody tr th {\n",
       "        vertical-align: top;\n",
       "    }\n",
       "\n",
       "    .dataframe thead th {\n",
       "        text-align: right;\n",
       "    }\n",
       "</style>\n",
       "<table border=\"1\" class=\"dataframe\">\n",
       "  <thead>\n",
       "    <tr style=\"text-align: right;\">\n",
       "      <th>text</th>\n",
       "      <th>COVID-19 : L’impegno e il potere dei cittadini in tempi di crisi</th>\n",
       "      <th>Jean-Dominique Giuliani (Fondation Schuman): “L’Europa sarà democratica o non sarà affatto”</th>\n",
       "      <th>Iniziativa Citizens Take Over Europe: “Vogliamo un’Europa che protegga e da proteggere”</th>\n",
       "      <th>Covid-19 e mobilità: Il virus apre una nuova frattura in Europa</th>\n",
       "      <th>Libertà dell'informazione in Europa: La situazione è “profondamente insoddisfacente”</th>\n",
       "    </tr>\n",
       "    <tr>\n",
       "      <th>text</th>\n",
       "      <th></th>\n",
       "      <th></th>\n",
       "      <th></th>\n",
       "      <th></th>\n",
       "      <th></th>\n",
       "    </tr>\n",
       "  </thead>\n",
       "  <tbody>\n",
       "    <tr>\n",
       "      <th>COVID-19 : We foster citizen empowerment in time of crisis</th>\n",
       "      <td>False</td>\n",
       "      <td>False</td>\n",
       "      <td>False</td>\n",
       "      <td>False</td>\n",
       "      <td>False</td>\n",
       "    </tr>\n",
       "    <tr>\n",
       "      <th>Culture at the time of coronavirus: For a European cultural renaissance</th>\n",
       "      <td>False</td>\n",
       "      <td>False</td>\n",
       "      <td>False</td>\n",
       "      <td>False</td>\n",
       "      <td>False</td>\n",
       "    </tr>\n",
       "    <tr>\n",
       "      <th>Jean-Dominique Giuliani (Schuman Foundation): ‘Europe will be democratic or not at all’</th>\n",
       "      <td>False</td>\n",
       "      <td>False</td>\n",
       "      <td>False</td>\n",
       "      <td>False</td>\n",
       "      <td>False</td>\n",
       "    </tr>\n",
       "    <tr>\n",
       "      <th>After the Covid-19 crisis: What kind of post-corona world do Europeans want?</th>\n",
       "      <td>False</td>\n",
       "      <td>True</td>\n",
       "      <td>True</td>\n",
       "      <td>False</td>\n",
       "      <td>False</td>\n",
       "    </tr>\n",
       "    <tr>\n",
       "      <th>Citizens Take Over Europe initiative: ‘We want a Europe that cares and is taken care of’</th>\n",
       "      <td>False</td>\n",
       "      <td>False</td>\n",
       "      <td>True</td>\n",
       "      <td>False</td>\n",
       "      <td>False</td>\n",
       "    </tr>\n",
       "  </tbody>\n",
       "</table>\n",
       "</div>"
      ],
      "text/plain": [
       "text                                                COVID-19 : L’impegno e il potere dei cittadini in tempi di crisi  \\\n",
       "text                                                                                                                   \n",
       "COVID-19 : We foster citizen empowerment in tim...                                              False                  \n",
       "Culture at the time of coronavirus: For a Europ...                                              False                  \n",
       "Jean-Dominique Giuliani (Schuman Foundation): ‘...                                              False                  \n",
       "After the Covid-19 crisis: What kind of post-co...                                              False                  \n",
       "Citizens Take Over Europe initiative: ‘We want ...                                              False                  \n",
       "\n",
       "text                                                Jean-Dominique Giuliani (Fondation Schuman): “L’Europa sarà democratica o non sarà affatto”  \\\n",
       "text                                                                                                                                              \n",
       "COVID-19 : We foster citizen empowerment in tim...                                              False                                             \n",
       "Culture at the time of coronavirus: For a Europ...                                              False                                             \n",
       "Jean-Dominique Giuliani (Schuman Foundation): ‘...                                              False                                             \n",
       "After the Covid-19 crisis: What kind of post-co...                                               True                                             \n",
       "Citizens Take Over Europe initiative: ‘We want ...                                              False                                             \n",
       "\n",
       "text                                                Iniziativa Citizens Take Over Europe: “Vogliamo un’Europa che protegga e da proteggere”  \\\n",
       "text                                                                                                                                          \n",
       "COVID-19 : We foster citizen empowerment in tim...                                              False                                         \n",
       "Culture at the time of coronavirus: For a Europ...                                              False                                         \n",
       "Jean-Dominique Giuliani (Schuman Foundation): ‘...                                              False                                         \n",
       "After the Covid-19 crisis: What kind of post-co...                                               True                                         \n",
       "Citizens Take Over Europe initiative: ‘We want ...                                               True                                         \n",
       "\n",
       "text                                                Covid-19 e mobilità: Il virus apre una nuova frattura in Europa  \\\n",
       "text                                                                                                                  \n",
       "COVID-19 : We foster citizen empowerment in tim...                                              False                 \n",
       "Culture at the time of coronavirus: For a Europ...                                              False                 \n",
       "Jean-Dominique Giuliani (Schuman Foundation): ‘...                                              False                 \n",
       "After the Covid-19 crisis: What kind of post-co...                                              False                 \n",
       "Citizens Take Over Europe initiative: ‘We want ...                                              False                 \n",
       "\n",
       "text                                                Libertà dell'informazione in Europa: La situazione è “profondamente insoddisfacente”  \n",
       "text                                                                                                                                      \n",
       "COVID-19 : We foster citizen empowerment in tim...                                              False                                     \n",
       "Culture at the time of coronavirus: For a Europ...                                              False                                     \n",
       "Jean-Dominique Giuliani (Schuman Foundation): ‘...                                              False                                     \n",
       "After the Covid-19 crisis: What kind of post-co...                                              False                                     \n",
       "Citizens Take Over Europe initiative: ‘We want ...                                              False                                     "
      ]
     },
     "execution_count": 76,
     "metadata": {},
     "output_type": "execute_result"
    }
   ],
   "source": [
    "(piecewise_df < 5)[:5][piecewise_df.columns[:5]]"
   ]
  },
  {
   "cell_type": "markdown",
   "metadata": {},
   "source": [
    "Clearly there's no threshold for the id proximity that will match the cross-language phrases well enough"
   ]
  }
 ],
 "metadata": {
  "kernelspec": {
   "display_name": "Python 3",
   "language": "python",
   "name": "python3"
  },
  "language_info": {
   "codemirror_mode": {
    "name": "ipython",
    "version": 3
   },
   "file_extension": ".py",
   "mimetype": "text/x-python",
   "name": "python",
   "nbconvert_exporter": "python",
   "pygments_lexer": "ipython3",
   "version": "3.7.7"
  }
 },
 "nbformat": 4,
 "nbformat_minor": 4
}
